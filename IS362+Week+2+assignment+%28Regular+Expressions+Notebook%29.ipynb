{
 "cells": [
  {
   "cell_type": "markdown",
   "metadata": {},
   "source": [
    "# Regular Expressions\n",
    "\n",
    "*Regular expressions are a powerful and standardized way of searching, replacing, and parsing text with complex\n",
    "patterns of characters.\n",
    "\n",
    "**Why Do We Use Regular Expressions?**\n",
    "\n",
    "If you find yourself using a lot of different string functions with if statements to handle special cases, or if you're combining them with split and join and list comprehensions in weird unreadable ways, you may need to move up to regular expressions. Regular expression syntax is tight and unlike normal code but the result is more readable code that looks better than a hand−rolled solution that uses a long chain of string functions."
   ]
  },
  {
   "cell_type": "markdown",
   "metadata": {},
   "source": [
    "**Example: Parsing Phone Numbers**\n",
    "\n",
    "*The problem: parsing an American phone number.*\n",
    "\n",
    "The client wanted to be able to enter the number free−form (in a single field), but\n",
    "then wanted to store the area code, trunk, number, and optionally an extension separately in the company's database. I\n",
    "scoured the Web and found many examples of regular expressions that purported to do this, but none of them were\n",
    "permissive enough.\n",
    "Here are the phone numbers I needed to be able to accept:\n",
    "· 800−555−1212\n",
    "· 800 555 1212\n",
    "· 800.555.1212\n",
    "· (800) 555−1212\n",
    "· 1−800−555−1212\n",
    "· 800−555−1212−1234\n",
    "· 800−555−1212x1234\n",
    "· 800−555−1212 ext. 1234\n",
    "· work 1−(800) 555.1212 /#1234\n",
    "\n",
    "Quite a variety! In each of these cases, I need to know that the area code was 800, the trunk was 555, and the rest of\n",
    "the phone number was 1212. For those with an extension, I need to know that the extension was 1234.\n",
    "Let's work through developing a solution for phone number parsing. \n",
    "\n",
    "This example shows the first step.\n",
    "\n",
    "**Example 7.10. Finding Numbers**\n",
    "\n",
    ">>> phonePattern = re.compile(r'^(\\d{3})−(\\d{3})−(\\d{4})$')\n",
    "\n",
    ">>> phonePattern.search('800−555−1212').groups()\n",
    "('800', '555', '1212')\n",
    "\n",
    ">>> phonePattern.search('800−555−1212−1234')\n",
    "\n",
    "\n",
    "*The Solution.*\n",
    "\n",
    "Always read regular expressions from left to right. This one matches the beginning of the string, and then\n",
    "(\\d{3}). What's \\d{3}? Well, the {3} means \"match exactly three numeric digits\"; it's a variation on the {n,m} syntax you saw earlier. \\d means \"any numeric digit\" (0 through 9). Putting it in parentheses means \"match exactly three numeric digits, and then remember them as a group that I can ask for later\". Then match a literal hyphen. Then match another group of exactly three \n",
    "digits. Then another literal hyphen. Then another group of exactly four digits. Then match the end of the string.\n",
    "\n",
    "To get access to the groups that the regular expression parser remembered along the way, use the\n",
    "groups() method on the object that the search function returns. It will return a tuple of however\n",
    "many groups were defined in the regular expression. In this case, you defined three groups, one with\n",
    "three digits, one with three digits, and one with four digits."
   ]
  },
  {
   "cell_type": "code",
   "execution_count": null,
   "metadata": {
    "collapsed": true
   },
   "outputs": [],
   "source": []
  }
 ],
 "metadata": {
  "kernelspec": {
   "display_name": "Python 2",
   "language": "python",
   "name": "python2"
  },
  "language_info": {
   "codemirror_mode": {
    "name": "ipython",
    "version": 2
   },
   "file_extension": ".py",
   "mimetype": "text/x-python",
   "name": "python",
   "nbconvert_exporter": "python",
   "pygments_lexer": "ipython2",
   "version": "2.7.13"
  }
 },
 "nbformat": 4,
 "nbformat_minor": 2
}
